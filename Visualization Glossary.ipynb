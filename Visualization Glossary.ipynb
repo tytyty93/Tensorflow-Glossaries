{
 "cells": [
  {
   "cell_type": "code",
   "execution_count": null,
   "metadata": {},
   "outputs": [],
   "source": [
    "#                                                MATPLOTLIB"
   ]
  },
  {
   "cell_type": "code",
   "execution_count": 1,
   "metadata": {},
   "outputs": [],
   "source": [
    "# Importing Matplotlib\n",
    "\n",
    "# import matplotlib.pyplot as plt"
   ]
  },
  {
   "cell_type": "code",
   "execution_count": 2,
   "metadata": {},
   "outputs": [],
   "source": [
    "# Plotting a basic line graph\n",
    "\n",
    "#plt.show()  ----> Optional. This removes that header on top of the graph\n",
    "# x = [0,1,2]\n",
    "# y = [100,200,300]\n",
    "\n",
    "# plt.plot(x,y)   ----> The first parameter will be x axis and second y axis regardless of the name"
   ]
  },
  {
   "cell_type": "code",
   "execution_count": 3,
   "metadata": {},
   "outputs": [],
   "source": [
    "# Optional additions to furnish the graph\n",
    "\n",
    "# plt.figure(figsize=(Enter width, Enter height))\n",
    "# plt.title('Insert Title Name') ----> Displays the title on top of graph\n",
    "# plt.xlabel('Insert X label name') ----> Displays the x axis of the graph\n",
    "# plt.ylabel('Insert Y label name') ----> Displays the y axis of the graph\n",
    "# plt.xlim(lower limit, upper limit) ----> Displays the range of the x axis to be displayed\n",
    "# plt.ylim(lower limit, upper limit) ----> Displays the range of the y axis to be displayed"
   ]
  },
  {
   "cell_type": "code",
   "execution_count": 5,
   "metadata": {},
   "outputs": [],
   "source": [
    "#                                                 SEABORN"
   ]
  },
  {
   "cell_type": "code",
   "execution_count": 6,
   "metadata": {},
   "outputs": [],
   "source": [
    "#import seaborn as sns"
   ]
  },
  {
   "cell_type": "code",
   "execution_count": 7,
   "metadata": {},
   "outputs": [],
   "source": [
    "# Distribution Table\n",
    "\n",
    "# sns.displot('only one parameter as x axis') ----> Returns a Distribution table the parameter can be df['Column to use']\n",
    "# sns.displot('only one parameter as x axis', kde=False)  ----> Removes the line of the distribution table"
   ]
  },
  {
   "cell_type": "code",
   "execution_count": 8,
   "metadata": {},
   "outputs": [],
   "source": [
    "#  Countplot\n",
    "\n",
    "# sns.countplot(x='Column in data',data=Your data)---->Do note that both this and bottom line works the same\n",
    "# sns.countplot(df['Column in your data'])        ---->\n",
    "# sns.countplot(x='Column in data',data=Your data, hue='Another Classification Column')\n",
    "\n",
    "\n",
    "# Reordering\n",
    "\n",
    "# order_you_want = sorted(df['Column to reorder'].unique())  ---> The order for 'order_you_want' is sorted for this example\n",
    "# sns.countplot(x='sub_grade',data=df,order = 'order_you_want',palette='coolwarm') ---> Include the variable under order.\n",
    "# [Do note that all the items in the feature to be ordered must tally]"
   ]
  },
  {
   "cell_type": "code",
   "execution_count": 9,
   "metadata": {},
   "outputs": [],
   "source": [
    "# Boxplot\n",
    "\n",
    "# sns.boxplot(x='Column to plot on X axis',y='Column to plot on Y  axis',data=df) \n",
    "#    Do note that X should be a categorical feature eg; Gender \n",
    "#    while Y is a continuous feature eg; Age"
   ]
  },
  {
   "cell_type": "code",
   "execution_count": 10,
   "metadata": {},
   "outputs": [],
   "source": [
    "# Scatterplot\n",
    "\n",
    "# sns.scatterplot(x='Column to plot on X axis',y='Column to plot on Y  axis',data=df)\n",
    "# sns.scatterplot(x='Column to plot on X axis',y='Column to plot on Y  axis',data=df, size='Another parameter to be plotted')\n",
    "\n",
    "# Do note that for the size, the darker the color, the more it is.\n",
    "\n",
    "\n",
    "# sns.scatterplot(x='long',y='lat',data=df,hue='price') ----> You can actually 'plot' the geography of an area with the \n",
    "#                                                             X-axis being the longitude & Y-axis the latitude.\n",
    "#                                                             the Hue is just showing the 'heatmap' of the areas"
   ]
  },
  {
   "cell_type": "code",
   "execution_count": null,
   "metadata": {},
   "outputs": [],
   "source": [
    "# Pairplot\n",
    "\n",
    "# sns.pairplot(Enter the data itself)\n",
    "\n",
    "# This will create a 4x4 data in which the diagonal will be the histogram and perform scatterplot for each comparison"
   ]
  }
 ],
 "metadata": {
  "kernelspec": {
   "display_name": "Python 3",
   "language": "python",
   "name": "python3"
  },
  "language_info": {
   "codemirror_mode": {
    "name": "ipython",
    "version": 3
   },
   "file_extension": ".py",
   "mimetype": "text/x-python",
   "name": "python",
   "nbconvert_exporter": "python",
   "pygments_lexer": "ipython3",
   "version": "3.7.7"
  }
 },
 "nbformat": 4,
 "nbformat_minor": 4
}
